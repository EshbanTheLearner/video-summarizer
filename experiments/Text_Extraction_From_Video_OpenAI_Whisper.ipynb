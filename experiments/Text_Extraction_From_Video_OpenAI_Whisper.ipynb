{
  "nbformat": 4,
  "nbformat_minor": 0,
  "metadata": {
    "colab": {
      "provenance": []
    },
    "kernelspec": {
      "name": "python3",
      "display_name": "Python 3"
    },
    "language_info": {
      "name": "python"
    },
    "accelerator": "GPU",
    "gpuClass": "standard"
  },
  "cells": [
    {
      "cell_type": "code",
      "source": [
        "!pip install transformers\n",
        "!pip install git+https://github.com/openai/whisper.git"
      ],
      "metadata": {
        "colab": {
          "base_uri": "https://localhost:8080/"
        },
        "id": "TsFvUZ3bsYwp",
        "outputId": "c17f5e40-2239-44e0-e9df-4c5b9084df15"
      },
      "execution_count": 1,
      "outputs": [
        {
          "output_type": "stream",
          "name": "stdout",
          "text": [
            "Looking in indexes: https://pypi.org/simple, https://us-python.pkg.dev/colab-wheels/public/simple/\n",
            "Requirement already satisfied: transformers in /usr/local/lib/python3.9/dist-packages (4.26.1)\n",
            "Requirement already satisfied: filelock in /usr/local/lib/python3.9/dist-packages (from transformers) (3.9.0)\n",
            "Requirement already satisfied: numpy>=1.17 in /usr/local/lib/python3.9/dist-packages (from transformers) (1.22.4)\n",
            "Requirement already satisfied: packaging>=20.0 in /usr/local/lib/python3.9/dist-packages (from transformers) (23.0)\n",
            "Requirement already satisfied: tokenizers!=0.11.3,<0.14,>=0.11.1 in /usr/local/lib/python3.9/dist-packages (from transformers) (0.13.2)\n",
            "Requirement already satisfied: tqdm>=4.27 in /usr/local/lib/python3.9/dist-packages (from transformers) (4.65.0)\n",
            "Requirement already satisfied: huggingface-hub<1.0,>=0.11.0 in /usr/local/lib/python3.9/dist-packages (from transformers) (0.13.2)\n",
            "Requirement already satisfied: requests in /usr/local/lib/python3.9/dist-packages (from transformers) (2.28.2)\n",
            "Requirement already satisfied: pyyaml>=5.1 in /usr/local/lib/python3.9/dist-packages (from transformers) (6.0)\n",
            "Requirement already satisfied: regex!=2019.12.17 in /usr/local/lib/python3.9/dist-packages (from transformers) (2022.6.2)\n",
            "Requirement already satisfied: typing-extensions>=3.7.4.3 in /usr/local/lib/python3.9/dist-packages (from huggingface-hub<1.0,>=0.11.0->transformers) (4.5.0)\n",
            "Requirement already satisfied: charset-normalizer<4,>=2 in /usr/local/lib/python3.9/dist-packages (from requests->transformers) (3.1.0)\n",
            "Requirement already satisfied: certifi>=2017.4.17 in /usr/local/lib/python3.9/dist-packages (from requests->transformers) (2022.12.7)\n",
            "Requirement already satisfied: urllib3<1.27,>=1.21.1 in /usr/local/lib/python3.9/dist-packages (from requests->transformers) (1.26.15)\n",
            "Requirement already satisfied: idna<4,>=2.5 in /usr/local/lib/python3.9/dist-packages (from requests->transformers) (2.10)\n",
            "Looking in indexes: https://pypi.org/simple, https://us-python.pkg.dev/colab-wheels/public/simple/\n",
            "Collecting git+https://github.com/openai/whisper.git\n",
            "  Cloning https://github.com/openai/whisper.git to /tmp/pip-req-build-s2zpcte3\n",
            "  Running command git clone --filter=blob:none --quiet https://github.com/openai/whisper.git /tmp/pip-req-build-s2zpcte3\n",
            "  Resolved https://github.com/openai/whisper.git to commit 5f9ac653b7f0fa772af9aa8e2cec89726b526c3e\n",
            "  Installing build dependencies ... \u001b[?25l\u001b[?25hdone\n",
            "  Getting requirements to build wheel ... \u001b[?25l\u001b[?25hdone\n",
            "  Preparing metadata (pyproject.toml) ... \u001b[?25l\u001b[?25hdone\n",
            "Requirement already satisfied: tqdm in /usr/local/lib/python3.9/dist-packages (from openai-whisper==20230308) (4.65.0)\n",
            "Requirement already satisfied: ffmpeg-python==0.2.0 in /usr/local/lib/python3.9/dist-packages (from openai-whisper==20230308) (0.2.0)\n",
            "Requirement already satisfied: tiktoken==0.3.1 in /usr/local/lib/python3.9/dist-packages (from openai-whisper==20230308) (0.3.1)\n",
            "Requirement already satisfied: numpy in /usr/local/lib/python3.9/dist-packages (from openai-whisper==20230308) (1.22.4)\n",
            "Requirement already satisfied: numba in /usr/local/lib/python3.9/dist-packages (from openai-whisper==20230308) (0.56.4)\n",
            "Requirement already satisfied: triton==2.0.0 in /usr/local/lib/python3.9/dist-packages (from openai-whisper==20230308) (2.0.0)\n",
            "Requirement already satisfied: more-itertools in /usr/local/lib/python3.9/dist-packages (from openai-whisper==20230308) (9.1.0)\n",
            "Requirement already satisfied: torch in /usr/local/lib/python3.9/dist-packages (from openai-whisper==20230308) (1.13.1+cu116)\n",
            "Requirement already satisfied: future in /usr/local/lib/python3.9/dist-packages (from ffmpeg-python==0.2.0->openai-whisper==20230308) (0.16.0)\n",
            "Requirement already satisfied: regex>=2022.1.18 in /usr/local/lib/python3.9/dist-packages (from tiktoken==0.3.1->openai-whisper==20230308) (2022.6.2)\n",
            "Requirement already satisfied: requests>=2.26.0 in /usr/local/lib/python3.9/dist-packages (from tiktoken==0.3.1->openai-whisper==20230308) (2.28.2)\n",
            "Requirement already satisfied: cmake in /usr/local/lib/python3.9/dist-packages (from triton==2.0.0->openai-whisper==20230308) (3.22.6)\n",
            "Requirement already satisfied: lit in /usr/local/lib/python3.9/dist-packages (from triton==2.0.0->openai-whisper==20230308) (15.0.7)\n",
            "Requirement already satisfied: filelock in /usr/local/lib/python3.9/dist-packages (from triton==2.0.0->openai-whisper==20230308) (3.9.0)\n",
            "Requirement already satisfied: llvmlite<0.40,>=0.39.0dev0 in /usr/local/lib/python3.9/dist-packages (from numba->openai-whisper==20230308) (0.39.1)\n",
            "Requirement already satisfied: setuptools in /usr/local/lib/python3.9/dist-packages (from numba->openai-whisper==20230308) (63.4.3)\n",
            "Requirement already satisfied: typing-extensions in /usr/local/lib/python3.9/dist-packages (from torch->openai-whisper==20230308) (4.5.0)\n",
            "Requirement already satisfied: certifi>=2017.4.17 in /usr/local/lib/python3.9/dist-packages (from requests>=2.26.0->tiktoken==0.3.1->openai-whisper==20230308) (2022.12.7)\n",
            "Requirement already satisfied: idna<4,>=2.5 in /usr/local/lib/python3.9/dist-packages (from requests>=2.26.0->tiktoken==0.3.1->openai-whisper==20230308) (2.10)\n",
            "Requirement already satisfied: charset-normalizer<4,>=2 in /usr/local/lib/python3.9/dist-packages (from requests>=2.26.0->tiktoken==0.3.1->openai-whisper==20230308) (3.1.0)\n",
            "Requirement already satisfied: urllib3<1.27,>=1.21.1 in /usr/local/lib/python3.9/dist-packages (from requests>=2.26.0->tiktoken==0.3.1->openai-whisper==20230308) (1.26.15)\n"
          ]
        }
      ]
    },
    {
      "cell_type": "code",
      "source": [
        "import sys\n",
        "!{sys.executable} -m pip install yt-dlp"
      ],
      "metadata": {
        "colab": {
          "base_uri": "https://localhost:8080/"
        },
        "id": "smomdRpXrQb5",
        "outputId": "dbd7456b-ca91-4ea0-ee08-7b01e1060abc"
      },
      "execution_count": 2,
      "outputs": [
        {
          "output_type": "stream",
          "name": "stdout",
          "text": [
            "Looking in indexes: https://pypi.org/simple, https://us-python.pkg.dev/colab-wheels/public/simple/\n",
            "Requirement already satisfied: yt-dlp in /usr/local/lib/python3.9/dist-packages (2023.3.4)\n",
            "Requirement already satisfied: pycryptodomex in /usr/local/lib/python3.9/dist-packages (from yt-dlp) (3.17)\n",
            "Requirement already satisfied: websockets in /usr/local/lib/python3.9/dist-packages (from yt-dlp) (10.4)\n",
            "Requirement already satisfied: certifi in /usr/local/lib/python3.9/dist-packages (from yt-dlp) (2022.12.7)\n",
            "Requirement already satisfied: brotli in /usr/local/lib/python3.9/dist-packages (from yt-dlp) (1.0.9)\n",
            "Requirement already satisfied: mutagen in /usr/local/lib/python3.9/dist-packages (from yt-dlp) (1.46.0)\n"
          ]
        }
      ]
    },
    {
      "cell_type": "code",
      "source": [
        "!nvidia-smi"
      ],
      "metadata": {
        "colab": {
          "base_uri": "https://localhost:8080/"
        },
        "id": "M0isLZWYwYV1",
        "outputId": "55a3d7dc-e972-407f-d653-fdbec401f41e"
      },
      "execution_count": 3,
      "outputs": [
        {
          "output_type": "stream",
          "name": "stdout",
          "text": [
            "Tue Mar 14 17:12:18 2023       \n",
            "+-----------------------------------------------------------------------------+\n",
            "| NVIDIA-SMI 525.85.12    Driver Version: 525.85.12    CUDA Version: 12.0     |\n",
            "|-------------------------------+----------------------+----------------------+\n",
            "| GPU  Name        Persistence-M| Bus-Id        Disp.A | Volatile Uncorr. ECC |\n",
            "| Fan  Temp  Perf  Pwr:Usage/Cap|         Memory-Usage | GPU-Util  Compute M. |\n",
            "|                               |                      |               MIG M. |\n",
            "|===============================+======================+======================|\n",
            "|   0  Tesla T4            Off  | 00000000:00:04.0 Off |                    0 |\n",
            "| N/A   45C    P0    27W /  70W |      0MiB / 15360MiB |      0%      Default |\n",
            "|                               |                      |                  N/A |\n",
            "+-------------------------------+----------------------+----------------------+\n",
            "                                                                               \n",
            "+-----------------------------------------------------------------------------+\n",
            "| Processes:                                                                  |\n",
            "|  GPU   GI   CI        PID   Type   Process name                  GPU Memory |\n",
            "|        ID   ID                                                   Usage      |\n",
            "|=============================================================================|\n",
            "|  No running processes found                                                 |\n",
            "+-----------------------------------------------------------------------------+\n"
          ]
        }
      ]
    },
    {
      "cell_type": "code",
      "source": [
        "import yt_dlp\n",
        "import whisper\n",
        "from transformers import AutoTokenizer\n",
        "from transformers import PegasusForConditionalGeneration\n",
        "import torch"
      ],
      "metadata": {
        "id": "tvXebjf17Iev"
      },
      "execution_count": 4,
      "outputs": []
    },
    {
      "cell_type": "code",
      "source": [
        "device = torch.device(\"cuda\") if torch.cuda.is_available() else torch.device(\"cpu\")\n",
        "device"
      ],
      "metadata": {
        "colab": {
          "base_uri": "https://localhost:8080/"
        },
        "id": "moMFBoQVES_F",
        "outputId": "66e55599-a88d-4834-fd2e-c4ef06bdbf62"
      },
      "execution_count": 5,
      "outputs": [
        {
          "output_type": "execute_result",
          "data": {
            "text/plain": [
              "device(type='cuda')"
            ]
          },
          "metadata": {},
          "execution_count": 5
        }
      ]
    },
    {
      "cell_type": "code",
      "source": [
        "URLS = ['https://www.youtube.com/watch?v=57OU18cogJI']\n",
        "\n",
        "ydl_opts = {\n",
        "    'format': 'wav/bestaudio/best',\n",
        "    'postprocessors': [{\n",
        "        'key': 'FFmpegExtractAudio',\n",
        "        'preferredcodec': 'mp3',\n",
        "    }],\n",
        "    'outtmpl': './audios/%(title)s-%(id)s.%(ext)s'\n",
        "}\n",
        "\n",
        "with yt_dlp.YoutubeDL(ydl_opts) as ydl:\n",
        "    error_code = ydl.download(URLS)"
      ],
      "metadata": {
        "colab": {
          "base_uri": "https://localhost:8080/"
        },
        "id": "CTaLRgmdq_H0",
        "outputId": "a42c387d-f34d-420d-cee5-0adbc6cc71de"
      },
      "execution_count": 6,
      "outputs": [
        {
          "output_type": "stream",
          "name": "stdout",
          "text": [
            "[youtube] Extracting URL: https://www.youtube.com/watch?v=57OU18cogJI\n",
            "[youtube] 57OU18cogJI: Downloading webpage\n",
            "[youtube] 57OU18cogJI: Downloading android player API JSON\n",
            "[info] 57OU18cogJI: Downloading 1 format(s): 251\n",
            "[dashsegments] Total fragments: 2\n",
            "[download] Destination: ./audios/StrictlyVC in conversation with Sam Altman, part one-57OU18cogJI.webm\n",
            "[download] 100% of   15.90MiB in 00:00:00 at 23.02MiB/s              \n",
            "[ExtractAudio] Destination: ./audios/StrictlyVC in conversation with Sam Altman, part one-57OU18cogJI.mp3\n",
            "Deleting original file ./audios/StrictlyVC in conversation with Sam Altman, part one-57OU18cogJI.webm (pass -k to keep)\n"
          ]
        }
      ]
    },
    {
      "cell_type": "code",
      "source": [
        "model = whisper.load_model(\"medium\")"
      ],
      "metadata": {
        "id": "Z154ASa0xoHa"
      },
      "execution_count": 7,
      "outputs": []
    },
    {
      "cell_type": "code",
      "source": [
        "filepath = \"./audios/StrictlyVC in conversation with Sam Altman, part one-57OU18cogJI.mp3\""
      ],
      "metadata": {
        "id": "zB79Oh9J42P0"
      },
      "execution_count": 12,
      "outputs": []
    },
    {
      "cell_type": "code",
      "source": [
        "result = model.transcribe(filepath)"
      ],
      "metadata": {
        "id": "Wu_dL-ZA47dD"
      },
      "execution_count": 13,
      "outputs": []
    },
    {
      "cell_type": "code",
      "source": [
        "text = result[\"text\"]"
      ],
      "metadata": {
        "id": "JyFyTfJS60mf"
      },
      "execution_count": 14,
      "outputs": []
    },
    {
      "cell_type": "code",
      "source": [
        "print(text)"
      ],
      "metadata": {
        "colab": {
          "base_uri": "https://localhost:8080/"
        },
        "id": "ZGsMYWxcDK3s",
        "outputId": "e82e47f1-f763-4c80-845e-526e64fec1e4"
      },
      "execution_count": 15,
      "outputs": [
        {
          "output_type": "stream",
          "name": "stdout",
          "text": [
            " So appreciate it. Thanks for having me. So Sam, you also very nicely came to an event that happened to be right here three years ago. Yeah, I remember what's been happening. Mostly. Yeah, it's just taken up a lot of my time, but it's super great. And I think we're we're doing a lot of stuff we're really proud of. I mean, I'm half kidding, obviously. But you know, you've been at the center of the startup conversation for almost 10 years since you had taken over as the president of Y Combinator. That has been 10 years. Yeah. Yeah, or something like that. Almost. Paul Graham once said that Sam is exceedingly good at becoming powerful, which I think is very funny. But you are now at the center of the national conversation. I mean, to an extent that I think, you know, sort of has taken us all collectively back. I'm just wondering, how is that for you? Are you like springing out of bed? Are you like waking up dreading the you know, the headlines I saw that you had posted? I don't read the news. I honestly, I think if I and I don't really do stuff like this much at all. I think if I could like just stop trolling on Twitter, which I really love for some reason, I can't explain. I think I would just like really accomplish my goal of not, you know, being very quiet. But Twitter's fun. Well, I saw that you posted a barf barfing emoji yesterday, without comment. And I wondered if that had anything to do with no, I had a bad morning for like, extremely pedestrian reasons. Like my house flooded, I got in a car crash. And I'm allowed to use Twitter like a regular person. Sure. Absolutely. Oh, well, I mean, we're not here to talk about Twitter. But any thoughts about you know, your friend is running it? What do you think? How do you think things are going? I think it's gonna be fine. I remember that night where everyone was like, get your tweets off right now. Say your goodbyes. I heard from my like, you know, brothers, roommates, fathers, uncle, whatever that like, it's all gonna melt down tonight. And it's all over. And you know, it's still here. I think it's gonna be They went to Mastin and then they saw what the alternative was. I think it's I think it's I would be making some different decisions. But also I have like unbelievable respect for Elon, I wouldn't bet against him. And I think it's most likely gonna be fine. Well, you know, there are a lot of reporters here who have been generating the coverage that we've all been reading. So I was gonna say if there's anything that you want to confirm or correct, I'm sure they would be delighted. But in the meantime, you know, Strictly VC is really about investors and and startup founders. And I think in the same way that people are very interested in open AI, because of your involvement, they are really interested in your work as an investor. So I thought just to start, if it's okay with you, we could kind of talk a little bit about that aspect of your life. Starting with Sure, but can I correct one thing? First, I don't think people are interested in open AI because of my involvement, I think open AI has managed to pull together the the most talent dense researchers and engineers in the field of AI, who have done just like incredible work. And I think what people are interested in is like, open AI from a cold start a few years ago has managed to do this thing that I think is going to be incredibly important to the next many decades, at least of society and how we all live our lives and what we do and what's possible. And I think it's going to be tremendously good. But the reason people I think are interested in open AI is because of the work that those people do. We've managed to make a research lab that has been able to deliver some cool stuff. And I think we'll deliver a lot more cool things. So just wanted to absolutely but I mean, you have to you are one of the best storytellers in Silicon Valley, possibly the business, I think that counts for a lot. So I'm going to argue with you there. But how many investments do you have that large, you know, like altogether active? I'm trying to get a sense for I mean, counting all the YC ones, like a few 1000 personal ones. I would guess 400. Wow, really? Something. Well, I've been doing this for a long time. Yeah, absolutely. I mean, and every once in a while, I see like a really gigantic deal. What what makes a Sam Altman deal? Um, I try to just do things that I'm interested in at this point. One of the things I have realized is all of the companies I think I have added a lot of value to are the ones that I sort of like, think about in my free time on a hike or whatever, and then text the founders, hey, I have this idea for you. And I have learned kind of like what those are, and the ones that are not I think like every founder deserves an investor who is like gonna think about them while they're hiking. And so I've tried to like hold myself to the stuff that I really love, which tends to be like the hard tech years of R&D, capital intensive, or like, it's sort of like risky, or like risky research, and then but if it works, it really works. Well, one of the investments that I think is so interesting, and obviously, it's very interesting to you too, is Helion. Yeah. That company announced you so you've been investing in Helion since 2015, but announced a $500 million investment last year, and you participated, you wrote them a $375 million check, which I think probably surprised people, because there's not that many people who can write a $375 million check. Or not that many people who would like do it into like one risky fusion company. Well, I mean, I wanted to ask, so you mentioned your YC companies, and I guess in the aggregate, maybe that's the answer. I just wondered, like, which have been your most successful investments to date? I mean, probably on a multiple spaces, definitely on a multiple spaces, Stripe. And also, I think that was like my second investment ever. So it seemed like a lot easier. This was also a time when evaluations were different. It was great. But probably that one on a multiple spaces. But I've been doing this for like, 17 years, I guess. So there's been a lot of really good ones. And like super grateful to have been in Silicon Valley at what was such like a magical time. Helion is like more than an investment to me. That's the other thing besides OpenAI. I spend a lot of time on and just super excited about what's going to happen there. So tell me about it, because I don't really, I mean, I don't understand this. I saw what happened at Lawrence Livermore last month, and I wondered what you thought of that. It's a very different approach. Maybe if you can sort of explain since you're the expert. Super happy for them. I think it's like a very cool scientific result. As they themselves said, I don't think it'll be commercially relevant. And that's what I'm excited about. Not not sort of getting fusion to work in a lab, although that is cool, too. But building a system that will work at a super low cost. So if you look at the previous energy transitions, if you can get the cost of a new form of energy down, it can like take over everything else in a couple of decades, just phenomenally fast. And then also, a system where we can create enough energy and enough reliable energy, both in terms of the machines not breaking, and also not having like the intermittent or the need for storage of solar wind or something like that. If we can create enough for Earth in like 10 years. And I think that's actually the hardest challenge that helium faces. As we sketch out what it takes operationally to do that, to replace all the current generative capacity on Earth with fusion, and to do it really fast, and to like think about what it really means to build a factory that's capable of like, putting out two of these machines a day for a decade. That's really hard. But also a super fun problem. So I think there will be I'm very happy there's a fusion race. I think that's great. I'm also very happy solar and batteries are getting so cheap. But I think what will matter is who can deliver energy, the cheapest and enough of it. And again, just knowing only you know, what I read on a sort of superficial way, why is Helions approach to your mind superior than what these what dozens of nations are working on in the south of France? Yeah, well, that thing, I think probably will work either. But to what I was just saying earlier, I think it will be commercially irrelevant. They also think it'll be commercially irrelevant. The thing that is so exciting to me about helium is that that it's a simple machine that is an affordable cost and a reasonable size. There's a bunch of different elements of it than like the giant tokamaks. But one that is very cool is what what comes out of the reaction is charged particles, not heat, almost all other sort of like, you know, like a coal plant or natural gas plant or whatever makes heat drives a steam turbine. That's what does helium makes charged particles, which push back on the magnet and drive an electrical current down a wire, there's no heat cycle at all. And so it can be a much simpler, much more efficient system. And that I think is like missed out of the whole discussion on fusion. But really great. It also means we don't have to deal with like much nuclear material, we don't ever have like dangerous waste or even a dangerous system, you could like touch it pretty shortly after it turns off. And I mean, so I know it's building a big facility right now. Has it proven its thesis? We will have more to share there shortly. Okay. Well, after talking to you last time a few years ago, and looking back on our conversation where I was like, Sam, and now everything that you said was going to happen is happening. I take you more seriously than I did and should have. There's a long way to go. But thank you. So I also wanted to ask about some of your other investments, one of which I think is really interesting. Hermes. Yeah. So Hermes is interesting for a few reasons. Hermes is a supersonic jet company that wants to go at like five times the speed of sound. So that's cool. Also a big investment from you, I think it was like $100 million around that you led. But also you were involved with a competitor for a while you're on the board of boom supersonic, whose CEO has also participated in a Strictly VC event. So just wondering why? Yeah, horses. Not not at all change horses. Boom is a different technology. And it's like a you know, Mach two ish airplane instead of a Mach five ish airplane. Hermes is is like a ramjet technology that has very different characteristics. But I think there will be like it's a huge market. I think there will be multiple needs. I think these are pretty very different approaches. And my general approach is, if there's like an area that I think is really important, like energy, for example, I tried to fund the best fusion and the best fishing company I can. They're competitive in the sense that they're both trying to make cheap energy, but like we desperately need more cheap energy. It's a huge market, I think they can both work. I wouldn't have funded to like exact same approach airplane companies. But I think these are like very different. And also, you know, you are somebody who thinks about sort of second order effects. When you think about Hermes, I mean, first of all, I guess, is it climate friendly? And second, what are the impacts, I guess, good and bad of us traveling around the world much faster than we do right now? Part of my theory is that so it's not climate friendly, if it's using current aviation fuel, I think even if something like fusion doesn't happen, there's a pretty good move to sustainable aviation fuel. And, you know, at some point, we'll be all using that anyway. If something like fusion does work, it will so change the dynamics of what's possible in terms of our ability to create things like aviation fuel easily, or capture carbon out of the atmosphere. That I and I am confident enough in that working, that things I was much more nervous about doing a few years ago, like creating faster airplanes that will increase the need for fuel because you have to burn a lot more fuel to go even a little bit faster. I'm sort of much more open to in terms of like the benefits of traveling fast, I think human history is like a pretty good. There's like, quite good evidence that when we are able to trap travel faster and more conveniently, good things happen. More commerce happens, more innovation happens. I think people develop much more empathy. Certainly the time I have spent, like traveling around the world and seeing very different things, very different problems meeting very different people have been like super formative for me. And I think more of that's a good thing. I guess one downside is the spread of disease happens faster, but that's yes. Although I like, I think blaming faster planes for the spread of disease rather than the incompetence of governments and insufficient funding for pandemic response is sort of the wrong way to go about it. Yeah. What about WorldCoin? That was a strange one. And that one was not received well by the media. We probably didn't understand it. You can't win them all. Wait, wait, can I read the headline in Bloomberg? Sam Altman wants to scan your eyeball in exchange for cryptocurrency. What is going on with that company? Is it still, are you still working on it and should we be scared? I am. Yeah, like I think that's, they'll have more to share soon. I am, I'm like a co-founder. I'm on the board. I'm not day to day involved, but I think super highly of them. I think the press cycle, it was like came from a leak. The company hadn't like, was not ready to tell its story yet. That was unfortunate. I think they'll do it soon. And I think it will go over well. I think the need, so I like, I try to think about like not any individual company, but sort of where the world is going to co-evolve. And I think at this point, the need for systems that provide proof of personhood and the need for like new experiments with wealth redistribution and global governance of systems, like say an AGI is higher. So I'm very glad this experiment is running. I'd like to see many more. I think the, like to me personally, and again, people will have different opinions and they'll do what they want. But like the amount of privacy you give up to like use Facebook or something versus the amount of privacy you like give up for like a scan of your retina and nothing else. Like I'd much rather have the latter. And many people won't want that. And that's fine. But I think more experiments about how, what we can do, what problems we can solve with technology in this sort of new world, like great to try that stuff. I think it's a phenomenal team. I think they've got a great product. I'm excited for the launch. When is that? I don't know exactly, but pretty soon, like months. And you're a co-founder, but you're obviously not very involved. Correct. Okay. One of the investors I just happened to notice was Sam Bankman Fried, who's also like you in the headlines. I did not know that. Interesting. You did know that? I really didn't. He's personally an investor in the company. I mean, according to some report. No, I didn't know that. Do you know him? We met briefly, very briefly once only. Okay. So not enough to form an opinion. Okay. Scratch that one of the questions. I mean, I have an opinion. Not good. I wanted to ask about then crypto more broadly. You have a smattering of crypto investments. I don't know how interested you are if this is like friends that you've backed. Honestly, not super interested. I'm interested in WorldCoin, not because it's crypto, but because I think it's an interesting, it's an interesting attempt to use technology to solve something that is beyond what even governments in the world can effectively do. And I think if we can use technology, any technology, to experiment with global UBI instead of what one country could do, I'd be very happy to see what happens there. But that's not really about any particular technology. I think crypto is just a way that we should try implementing that. And we should, again, try lots and lots of other things. So we don't need a new web. We don't need new infrastructure. We don't need decentralization. This is like one of the things that makes me feel really old and out of touch. I've never quite understood that. I love the spirit of the Web3 people, but I don't intuitively feel why we need it. That's great. That's a relief because I think a lot of people feel the same way. I want to move on soon, but another company that I think is so interesting, and again, these are all so different and ambitious, is Conception, which is a startup pursuing what's called in vitro gametogenesis, which refers to turning adult cells into gametes, sperm or egg cells. So I mean, is this fantasy what makes you think that like artificial eggs? It's not fantasy. You know, there was a recent paper, they really truly have this not working in mice. Obviously, working in mice is very different than working in humans. We've learned a lesson many times, but it seems to me like it should work at some point. It's not soon. There's a gigantic amount of work left to do, but I think what's happening in biotech in general is just tremendously exciting now. I think it's like kind of in the shadow of AI, which has taken over so much of the mind share. But I think the next five, seven years of biotech progress is going to be remarkable. And yeah, I think like, if we do this again three years later, that one in particular will seem like, oh yeah, that's going to work. And I think things that are even further out there like, you know, human life extension or whatever will also seem like, yeah, maybe that's going to work. That's phenomenal. I guess there's obviously a lot of overlap, which is why you think that these things are going to work. Yeah, I think a lot of these things have these weirdly synergistic effects with each other. But even without that, I would just say biotech on its own is has made quite a lot of progress. There's so much interesting stuff going on. I've interviewed a founder recently who's trying to extend the life of women's ovaries, which I also think is really interesting. Okay, before we move on, you have been investing for 20 years. You were the president of Y Combinator for something like five or six years. You have your successor, Jeff Ralston, just left. Gary Tan came in. You had told Tad Friend once that when a CEO takes over a company, they have to kind of refound, I think was the word you used, the company. Do you think Gary's got to do anything differently? Gary's awesome. I think Gary will do a lot of things differently and be wildly successful at it. We're in a very different world and market now. I got to run, I said this once to somebody, I got to run YC at the time where any idiot would have been wildly successful. That was great. That was a lot of fun. Then the last couple of years I think were really hard, but now when everything is bombed out, I think it's a wonderful opportunity. I think YC can really remake itself. I think Gary is an incredible leader to do that. At the time when all of the tourists are leaving and all of the people who are starting startups are raising their seed fund or whatever because it was the fashionable thing to do while leaving, this is when the great value gets created. This is the best time to start a startup in many, many, many years. I'm very excited for him.\n"
          ]
        }
      ]
    },
    {
      "cell_type": "code",
      "source": [],
      "metadata": {
        "id": "yUWHjI_aBkix"
      },
      "execution_count": null,
      "outputs": []
    }
  ]
}